{
 "cells": [
  {
   "cell_type": "markdown",
   "metadata": {},
   "source": [
    "[A Random Walk & Monte Carlo Simulation || Python Tutorial || Learn Python Programming](https://youtu.be/BfS2H1y6tzQ)"
   ]
  },
  {
   "cell_type": "code",
   "execution_count": 6,
   "metadata": {},
   "outputs": [],
   "source": [
    "import random\n",
    "\n",
    "def random_walk(n):\n",
    "    \"\"\"Return coordinates after 'n' block random walk.\"\"\"\n",
    "    x = 0\n",
    "    y = 0\n",
    "    \n",
    "    for i in range(n):\n",
    "        step = random.choice(['N', 'S', 'E', 'W'])\n",
    "        \n",
    "        if step == 'N':\n",
    "            y = y + 1\n",
    "            \n",
    "        elif step == 'S':\n",
    "            y = y - 1\n",
    "\n",
    "        elif step == 'E':\n",
    "            x = x + 1\n",
    "            \n",
    "        else:\n",
    "            x = x - 1\n",
    "            \n",
    "    return (x, y)"
   ]
  },
  {
   "cell_type": "code",
   "execution_count": 7,
   "metadata": {},
   "outputs": [
    {
     "name": "stdout",
     "output_type": "stream",
     "text": [
      "(2, -2) Distance from home =  4\n",
      "(-4, -2) Distance from home =  6\n",
      "(1, 3) Distance from home =  4\n",
      "(0, -4) Distance from home =  4\n",
      "(0, -2) Distance from home =  2\n",
      "(-3, -1) Distance from home =  4\n",
      "(-1, 1) Distance from home =  2\n",
      "(-2, 0) Distance from home =  2\n",
      "(2, 4) Distance from home =  6\n",
      "(-2, 0) Distance from home =  2\n",
      "(1, -3) Distance from home =  4\n",
      "(-2, 4) Distance from home =  6\n",
      "(4, -4) Distance from home =  8\n",
      "(-7, -1) Distance from home =  8\n",
      "(2, 0) Distance from home =  2\n",
      "(-1, -1) Distance from home =  2\n",
      "(-3, 3) Distance from home =  6\n",
      "(0, 0) Distance from home =  0\n",
      "(0, 4) Distance from home =  4\n",
      "(2, 0) Distance from home =  2\n",
      "(0, 0) Distance from home =  0\n",
      "(-2, -4) Distance from home =  6\n",
      "(-2, 0) Distance from home =  2\n",
      "(1, -3) Distance from home =  4\n",
      "(3, 1) Distance from home =  4\n"
     ]
    }
   ],
   "source": [
    "for i in range(25):\n",
    "    walk = random_walk(10)\n",
    "    \n",
    "    print(walk, \"Distance from home = \", (abs(walk[0]) + abs(walk[1])))"
   ]
  },
  {
   "cell_type": "code",
   "execution_count": 8,
   "metadata": {},
   "outputs": [],
   "source": [
    "def random_walk_2(n):\n",
    "    \"\"\"Return coordinates after 'n' block random walk.\"\"\"\n",
    "    x, y = 0, 0\n",
    "    \n",
    "    for i in range(n):\n",
    "        (dx, dy) = random.choice([ (0, 1), (0, -1), (-1, 0)  ])\n",
    "        \n",
    "        x += dx\n",
    "        y += dy\n",
    "                    \n",
    "    return (x, y)"
   ]
  },
  {
   "cell_type": "code",
   "execution_count": 9,
   "metadata": {},
   "outputs": [
    {
     "name": "stdout",
     "output_type": "stream",
     "text": [
      "(2, 0) Distance from home =  2\n",
      "(-2, 2) Distance from home =  4\n",
      "(-4, 0) Distance from home =  4\n",
      "(-2, 2) Distance from home =  4\n",
      "(1, 1) Distance from home =  2\n",
      "(-1, -1) Distance from home =  2\n",
      "(-1, 1) Distance from home =  2\n",
      "(-2, 4) Distance from home =  6\n",
      "(2, 0) Distance from home =  2\n",
      "(-1, -1) Distance from home =  2\n",
      "(0, 2) Distance from home =  2\n",
      "(-1, 3) Distance from home =  4\n",
      "(-5, 3) Distance from home =  8\n",
      "(-1, -1) Distance from home =  2\n",
      "(0, 0) Distance from home =  0\n",
      "(-2, 0) Distance from home =  2\n",
      "(1, 1) Distance from home =  2\n",
      "(-2, 0) Distance from home =  2\n",
      "(2, -2) Distance from home =  4\n",
      "(5, 5) Distance from home =  10\n",
      "(-2, 2) Distance from home =  4\n",
      "(0, 0) Distance from home =  0\n",
      "(0, 2) Distance from home =  2\n",
      "(0, -2) Distance from home =  2\n",
      "(5, -3) Distance from home =  8\n"
     ]
    }
   ],
   "source": [
    "for i in range(25):\n",
    "    walk = random_walk(10)\n",
    "    \n",
    "    print(walk, \"Distance from home = \", (abs(walk[0]) + abs(walk[1])))"
   ]
  },
  {
   "cell_type": "markdown",
   "metadata": {},
   "source": [
    "# Monte Carlo"
   ]
  },
  {
   "cell_type": "code",
   "execution_count": 11,
   "metadata": {
    "scrolled": true
   },
   "outputs": [
    {
     "name": "stdout",
     "output_type": "stream",
     "text": [
      "Walk Size =  1  / % of no transport = 100.0\n",
      "Walk Size =  2  / % of no transport = 100.0\n",
      "Walk Size =  3  / % of no transport = 100.0\n",
      "Walk Size =  4  / % of no transport = 100.0\n",
      "Walk Size =  5  / % of no transport = 74.44\n",
      "Walk Size =  6  / % of no transport = 82.545\n",
      "Walk Size =  7  / % of no transport = 50.185\n",
      "Walk Size =  8  / % of no transport = 61.309999999999995\n",
      "Walk Size =  9  / % of no transport = 31.695\n",
      "Walk Size =  10  / % of no transport = 44.345\n",
      "Walk Size =  11  / % of no transport = 19.27\n",
      "Walk Size =  12  / % of no transport = 29.409999999999997\n",
      "Walk Size =  13  / % of no transport = 11.08\n",
      "Walk Size =  14  / % of no transport = 19.38\n",
      "Walk Size =  15  / % of no transport = 6.65\n",
      "Walk Size =  16  / % of no transport = 12.084999999999999\n",
      "Walk Size =  17  / % of no transport = 3.82\n",
      "Walk Size =  18  / % of no transport = 7.41\n",
      "Walk Size =  19  / % of no transport = 2.0500000000000003\n",
      "Walk Size =  20  / % of no transport = 4.535\n",
      "Walk Size =  21  / % of no transport = 1.065\n",
      "Walk Size =  22  / % of no transport = 2.635\n",
      "Walk Size =  23  / % of no transport = 0.555\n",
      "Walk Size =  24  / % of no transport = 1.415\n",
      "Walk Size =  25  / % of no transport = 0.385\n",
      "Walk Size =  26  / % of no transport = 0.88\n",
      "Walk Size =  27  / % of no transport = 0.22999999999999998\n",
      "Walk Size =  28  / % of no transport = 0.365\n",
      "Walk Size =  29  / % of no transport = 0.06\n",
      "Walk Size =  30  / % of no transport = 0.18\n"
     ]
    }
   ],
   "source": [
    "number_of_walks = 20000\n",
    "\n",
    "for walk_length in range(1, 31):\n",
    "    \n",
    "    no_transport = 0 # Number of walks 4 or fewer blocks from home\n",
    "    \n",
    "    for i in range(number_of_walks):\n",
    "        (x, y) = random_walk_2(walk_length)\n",
    "        \n",
    "        distance = abs(x) + abs(y)\n",
    "        \n",
    "        if distance <= 4:\n",
    "            no_transport += 1\n",
    "            \n",
    "            \n",
    "    no_transport_percentage = float(no_transport) / number_of_walks\n",
    "    print(\"Walk Size = \", walk_length, \" / % of no transport =\",\n",
    "         100*no_transport_percentage)"
   ]
  },
  {
   "cell_type": "code",
   "execution_count": null,
   "metadata": {},
   "outputs": [],
   "source": []
  }
 ],
 "metadata": {
  "kernelspec": {
   "display_name": "Python 3",
   "language": "python",
   "name": "python3"
  },
  "language_info": {
   "codemirror_mode": {
    "name": "ipython",
    "version": 3
   },
   "file_extension": ".py",
   "mimetype": "text/x-python",
   "name": "python",
   "nbconvert_exporter": "python",
   "pygments_lexer": "ipython3",
   "version": "3.8.5"
  }
 },
 "nbformat": 4,
 "nbformat_minor": 4
}
